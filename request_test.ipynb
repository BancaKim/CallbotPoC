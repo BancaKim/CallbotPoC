{
 "cells": [
  {
   "cell_type": "code",
   "execution_count": null,
   "id": "1232d322-1a28-404a-a3bc-6c83e7c8e40a",
   "metadata": {},
   "outputs": [],
   "source": [
    "import requests\n",
    "\n",
    "def call_stt(file_path):\n",
    "    url = \"http://localhost:8000/stt/\"\n",
    "    with open(file_path, \"rb\") as f:\n",
    "        files = {\"file\": f}\n",
    "        response = requests.post(url, files=files)\n",
    "    print(response.json())\n",
    "\n",
    "# 사용 예:\n",
    "call_stt(\"20241216143824.wav\")"
   ]
  },
  {
   "cell_type": "code",
   "execution_count": null,
   "id": "5812fe18-a29c-4d7f-938a-4171c569bef7",
   "metadata": {},
   "outputs": [],
   "source": [
    "import requests\n",
    "\n",
    "def call_llm(prompt):\n",
    "    url = \"http://localhost:8000/llm/\"\n",
    "    data = {\"prompt\": prompt}\n",
    "    response = requests.post(url, params=data)  # FastAPI에서는 query param처럼 처리됨\n",
    "    print(response.json())\n",
    "\n",
    "# 사용 예:\n",
    "call_llm(\"안녕, 오늘 날씨 어때?\")"
   ]
  },
  {
   "cell_type": "code",
   "execution_count": null,
   "id": "e0ca5198-f015-4c93-a586-738f18275355",
   "metadata": {},
   "outputs": [],
   "source": [
    "import requests\n",
    "\n",
    "def call_tts(text):\n",
    "    url = \"http://localhost:8000/tts/\"\n",
    "    data = {\"text\": text}\n",
    "    response = requests.post(url, params=data)\n",
    "    print(response.json())\n",
    "\n",
    "# 사용 예:\n",
    "call_tts(\"안녕하세요, 반갑습니다.\")\n"
   ]
  },
  {
   "cell_type": "code",
   "execution_count": null,
   "id": "53672cf8-499d-44e4-bd85-f60579874cb0",
   "metadata": {},
   "outputs": [],
   "source": []
  }
 ],
 "metadata": {
  "kernelspec": {
   "display_name": "Python 3 (ipykernel)",
   "language": "python",
   "name": "python3"
  },
  "language_info": {
   "codemirror_mode": {
    "name": "ipython",
    "version": 3
   },
   "file_extension": ".py",
   "mimetype": "text/x-python",
   "name": "python",
   "nbconvert_exporter": "python",
   "pygments_lexer": "ipython3",
   "version": "3.10.12"
  }
 },
 "nbformat": 4,
 "nbformat_minor": 5
}
